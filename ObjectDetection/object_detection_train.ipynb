{
  "cells": [
    {
      "cell_type": "code",
      "execution_count": 1,
      "metadata": {
        "colab": {
          "base_uri": "https://localhost:8080/"
        },
        "id": "1qS8hvob6rLQ",
        "outputId": "1a8c279d-426a-4d5a-d30a-a76d42c35b72"
      },
      "outputs": [
        {
          "output_type": "stream",
          "name": "stdout",
          "text": [
            "Mounted at /content/gdrive/\n"
          ]
        }
      ],
      "source": [
        "import torch\n",
        "import torch.utils.data as data\n",
        "import numpy as np\n",
        "import torch.nn as nn\n",
        "import torch.optim as optim\n",
        "import torch.nn.functional as F\n",
        "from collections import OrderedDict\n",
        "from google.colab import drive\n",
        "drive.mount('/content/gdrive/', force_remount=True)"
      ]
    },
    {
      "cell_type": "markdown",
      "metadata": {
        "id": "AqM6BOv96rLS"
      },
      "source": [
        "Densely Connected Convolutional Networks\" <https://arxiv.org/pdf/1608.06993.pdf>"
      ]
    },
    {
      "cell_type": "code",
      "execution_count": 2,
      "metadata": {
        "id": "jGDacP5i6rLW"
      },
      "outputs": [],
      "source": [
        "def conv_batch(in_num, out_num, kernel_size=3, padding=1, stride=1):\n",
        "    return nn.Sequential(\n",
        "        nn.Conv2d(in_num, out_num, kernel_size=kernel_size, stride=stride, padding=padding, bias=False),\n",
        "        nn.BatchNorm2d(out_num),\n",
        "        nn.LeakyReLU())\n",
        "\n",
        "\n",
        "# Residual block\n",
        "class DarkResidualBlock(nn.Module):\n",
        "    def __init__(self, in_channels):\n",
        "        super(DarkResidualBlock, self).__init__()\n",
        "\n",
        "        reduced_channels = int(in_channels/2)\n",
        "\n",
        "        self.layer1 = conv_batch(in_channels, reduced_channels, kernel_size=1, padding=0)\n",
        "        self.layer2 = conv_batch(reduced_channels, in_channels)\n",
        "\n",
        "    def forward(self, x):\n",
        "        residual = x\n",
        "\n",
        "        out = self.layer1(x)\n",
        "        out = self.layer2(out)\n",
        "        out += residual\n",
        "        return out\n",
        "\n",
        "\n",
        "class Darknet53(nn.Module):\n",
        "    def __init__(self, block, num_classes):\n",
        "        super(Darknet53, self).__init__()\n",
        "\n",
        "        self.num_classes = num_classes\n",
        "\n",
        "        self.conv1 = conv_batch(3, 32)\n",
        "        self.conv2 = conv_batch(32, 64, stride=2)\n",
        "        self.residual_block1 = self.make_layer(block, in_channels=64, num_blocks=1)\n",
        "        self.conv3 = conv_batch(64, 128, stride=2)\n",
        "        self.residual_block2 = self.make_layer(block, in_channels=128, num_blocks=2)\n",
        "        self.conv4 = conv_batch(128, 256, stride=2)\n",
        "        self.residual_block3 = self.make_layer(block, in_channels=256, num_blocks=8)\n",
        "        self.conv5 = conv_batch(256, 512, stride=2)\n",
        "        self.residual_block4 = self.make_layer(block, in_channels=512, num_blocks=8)\n",
        "        self.conv6 = conv_batch(512, 1024, stride=2)\n",
        "        self.residual_block5 = self.make_layer(block, in_channels=1024, num_blocks=4)\n",
        "        self.global_avg_pool = nn.AdaptiveAvgPool2d((1, 1))\n",
        "        self.fc = nn.Linear(1024, self.num_classes)\n",
        "\n",
        "    def forward(self, x):\n",
        "        out = self.conv1(x)\n",
        "        out = self.conv2(out)\n",
        "        out = self.residual_block1(out)\n",
        "        out = self.conv3(out)\n",
        "        out = self.residual_block2(out)\n",
        "        out = self.conv4(out)\n",
        "        out = self.residual_block3(out)\n",
        "        out = self.conv5(out)\n",
        "        out = self.residual_block4(out)\n",
        "        out = self.conv6(out)\n",
        "        out = self.residual_block5(out)\n",
        "        out = self.global_avg_pool(out)\n",
        "        out = out.view(-1, 1024)\n",
        "        out = self.fc(out)\n",
        "\n",
        "        return out\n",
        "\n",
        "    def make_layer(self, block, in_channels, num_blocks):\n",
        "        layers = []\n",
        "        for i in range(0, num_blocks):\n",
        "            layers.append(block(in_channels))\n",
        "        return nn.Sequential(*layers)\n",
        "\n",
        "\n",
        "def darknet53(num_classes):\n",
        "    return Darknet53(DarkResidualBlock, num_classes)"
      ]
    },
    {
      "cell_type": "code",
      "execution_count": 3,
      "metadata": {
        "id": "HmzqYKXS6rLW"
      },
      "outputs": [],
      "source": [
        "class DataSet(data.Dataset):\n",
        "    def __init__(self,x,y,bboxes):\n",
        "        self.x=np.load(x)\n",
        "        self.y=np.load(y)\n",
        "        self.bboxes=np.load(bboxes)\n",
        "\n",
        "    def __getitem__(self, index):\n",
        "        tmp=self.x[index,:].reshape(64,64,3)\n",
        "        img=torch.from_numpy(tmp.astype(np.float32)/255.).permute(2,0,1)\n",
        "        label=torch.from_numpy(self.y[index,:].astype(np.int32)).long()\n",
        "        bbox=torch.from_numpy(self.bboxes[index,:].astype(np.float32))\n",
        "        return img,label,bbox\n",
        "\n",
        "    def __len__(self):\n",
        "        return self.x.shape[0]\n",
        "\n",
        "def train(epoch,model,opt,train_loader):\n",
        "    global device,criterion_classification,criterion_box\n",
        "    model.train()\n",
        "    for i,(x,y,box) in enumerate(train_loader):\n",
        "        x=x.to(device) #Nx1x64x64\n",
        "        y=y.to(device) #Nx2\n",
        "        box=box.to(device) #Nx4\n",
        "        logit=model(x)#Nx28\n",
        "        # print(logit.shape,y.shape)\n",
        "        loss_class=criterion_classification(logit[:,:20].contiguous().view(-1,10),y.contiguous().view(-1))\n",
        "        # print(logit[:,20:].shape,box.shape)\n",
        "        loss_box=criterion_box(logit[:,20:],box.view(-1,8))\n",
        "        loss=loss_class+loss_box*0.05\n",
        "        \n",
        "        opt.zero_grad()\n",
        "        loss.backward()\n",
        "        nn.utils.clip_grad_norm(model.parameters(), 0.4)\n",
        "        opt.step()\n",
        "        if i%100:\n",
        "            print(\"Epoch: [%d] [%d], loss class %.5f, loss box %.5f\"%(epoch,i,loss_class.item(),\n",
        "                                                                     loss_box.item()))"
      ]
    },
    {
      "cell_type": "code",
      "execution_count": 4,
      "metadata": {
        "id": "6AFsReRn6rLX"
      },
      "outputs": [],
      "source": [
        "def test(epoch,model,test_loader):\n",
        "    global device\n",
        "    model.eval()\n",
        "    correct=0\n",
        "    loss_box_total=0\n",
        "    for i, (x, y, box) in enumerate(test_loader):\n",
        "        x = x.to(device)\n",
        "        y = y.to(device)\n",
        "        box = box.to(device)\n",
        "\n",
        "        #logit Nx28\n",
        "        logit = model(x)\n",
        "        logit_class=logit[:,:20].contiguous().view(-1,10)\n",
        "        logit_box=logit[:,20:]\n",
        "        loss_box=criterion_box(logit[:,20:],box.view(-1,8)).item()\n",
        "        loss_box_total+=loss_box\n",
        "        pred_class=logit_class.argmax(1).view(-1).cpu().numpy()\n",
        "        target_class=y.view(-1).cpu().numpy()\n",
        "        correct+=np.sum(pred_class==target_class)\n",
        "    acc=correct/len(test_loader)/2\n",
        "    print(\"Test Acc:\",acc)\n",
        "    print(\"loss box:\",loss_box_total/len(test_loader))\n",
        "    \n",
        "    save_model(model, \"/content/gdrive/My Drive/visual_recognition_data/epcoch_%d_acc%.4f_box%.4f.pth\"%(epoch,acc,loss_box_total/len(test_loader)))\n",
        "    "
      ]
    },
    {
      "cell_type": "code",
      "execution_count": 5,
      "metadata": {
        "id": "ATMfiAUi6rLY"
      },
      "outputs": [],
      "source": [
        "def save_model(model, filename):\n",
        "    torch.save(model.state_dict(), filename)"
      ]
    },
    {
      "cell_type": "code",
      "execution_count": 6,
      "metadata": {
        "id": "42vLOS-v6rLY"
      },
      "outputs": [],
      "source": [
        "def update_learning_rate(opt,decay_rate=0.9,min_value=1e-4):\n",
        "    for pg in opt.param_groups:\n",
        "        pg[\"lr\"]=max(pg[\"lr\"]*decay_rate,min_value)\n",
        "    print(\"learning rate\",pg[\"lr\"])"
      ]
    },
    {
      "cell_type": "code",
      "source": [
        "device = torch.device(\"cuda\") if torch.cuda.is_available() else torch.device(\"cpu\")\n",
        "criterion_classification=nn.CrossEntropyLoss().to(device)\n",
        "criterion_box= nn.MSELoss().to(device)\n",
        "def main():\n",
        "  #############################\n",
        "  #train dataloader\n",
        "  train_dataset=DataSet(\"/content/gdrive/My Drive/visual_recognition_data/train_X.npy\",\n",
        "                        \"/content/gdrive/My Drive/visual_recognition_data/train_Y.npy\",\n",
        "                        \"/content/gdrive/My Drive/visual_recognition_data/train_bboxes.npy\",)\n",
        "  train_loader = torch.utils.data.DataLoader(train_dataset, batch_size=100, shuffle=True,\n",
        "                                              num_workers=1)\n",
        "  #val dataloader\n",
        "  val_dataset=DataSet(\"/content/gdrive/My Drive/visual_recognition_data/valid_X.npy\",\n",
        "                        \"/content/gdrive/My Drive/visual_recognition_data/valid_Y.npy\",\n",
        "                        \"/content/gdrive/My Drive/visual_recognition_data/valid_bboxes.npy\",)\n",
        "  val_loader = torch.utils.data.DataLoader(val_dataset, batch_size=100, shuffle=True,\n",
        "                                              num_workers=1)\n",
        "  print(device)\n",
        "  model=darknet53(28)\n",
        "  model=model.to(device)\n",
        "  optimizer=optim.Adam(list(filter(lambda p: p.requires_grad, model.parameters())),lr=0.001,weight_decay=1e-4)\n",
        "  for epoch in range(100):\n",
        "      test(epoch,model,val_loader)\n",
        "      train(epoch,model,optimizer,train_loader)\n",
        "      \n",
        "      update_learning_rate(optimizer,decay_rate=0.9,min_value=1e-4)\n",
        "main()"
      ],
      "metadata": {
        "colab": {
          "base_uri": "https://localhost:8080/",
          "height": 1000
        },
        "id": "BNe-uKjh7IsV",
        "outputId": "27dfee17-3b43-44a8-fb78-914ae13daf98"
      },
      "execution_count": 8,
      "outputs": [
        {
          "output_type": "stream",
          "name": "stdout",
          "text": [
            "cuda\n",
            "Test Acc: 8.03\n",
            "loss box: 1326.035908203125\n"
          ]
        },
        {
          "output_type": "stream",
          "name": "stderr",
          "text": [
            "/usr/local/lib/python3.7/dist-packages/ipykernel_launcher.py:33: UserWarning: torch.nn.utils.clip_grad_norm is now deprecated in favor of torch.nn.utils.clip_grad_norm_.\n"
          ]
        },
        {
          "output_type": "stream",
          "name": "stdout",
          "text": [
            "Epoch: [0] [1], loss class 2.82943, loss box 1187.39331\n",
            "Epoch: [0] [2], loss class 3.67484, loss box 994.03961\n",
            "Epoch: [0] [3], loss class 3.09586, loss box 844.57452\n",
            "Epoch: [0] [4], loss class 2.94944, loss box 715.24738\n",
            "Epoch: [0] [5], loss class 2.83321, loss box 669.78717\n",
            "Epoch: [0] [6], loss class 2.55868, loss box 589.36658\n",
            "Epoch: [0] [7], loss class 2.60587, loss box 522.02826\n",
            "Epoch: [0] [8], loss class 2.49584, loss box 453.17172\n",
            "Epoch: [0] [9], loss class 2.26828, loss box 384.32678\n",
            "Epoch: [0] [10], loss class 2.28285, loss box 321.90479\n",
            "Epoch: [0] [11], loss class 2.35551, loss box 276.79562\n",
            "Epoch: [0] [12], loss class 2.31549, loss box 248.06058\n",
            "Epoch: [0] [13], loss class 2.22820, loss box 216.86945\n",
            "Epoch: [0] [14], loss class 2.18806, loss box 196.03340\n",
            "Epoch: [0] [15], loss class 2.18608, loss box 171.67491\n",
            "Epoch: [0] [16], loss class 2.29357, loss box 133.31393\n",
            "Epoch: [0] [17], loss class 2.27672, loss box 136.23778\n",
            "Epoch: [0] [18], loss class 2.31950, loss box 119.43322\n",
            "Epoch: [0] [19], loss class 2.29046, loss box 116.15028\n",
            "Epoch: [0] [20], loss class 2.29703, loss box 115.22305\n",
            "Epoch: [0] [21], loss class 2.23554, loss box 122.34335\n",
            "Epoch: [0] [22], loss class 2.34629, loss box 129.38756\n",
            "Epoch: [0] [23], loss class 2.44501, loss box 128.11295\n",
            "Epoch: [0] [24], loss class 2.46430, loss box 135.24942\n",
            "Epoch: [0] [25], loss class 2.39453, loss box 135.92068\n",
            "Epoch: [0] [26], loss class 2.26204, loss box 116.00042\n",
            "Epoch: [0] [27], loss class 2.34028, loss box 130.62495\n",
            "Epoch: [0] [28], loss class 2.44227, loss box 159.01300\n",
            "Epoch: [0] [29], loss class 2.35478, loss box 110.05319\n",
            "Epoch: [0] [30], loss class 2.27918, loss box 112.02969\n",
            "Epoch: [0] [31], loss class 2.17506, loss box 116.67072\n",
            "Epoch: [0] [32], loss class 2.32185, loss box 117.58767\n",
            "Epoch: [0] [33], loss class 2.48104, loss box 122.22902\n",
            "Epoch: [0] [34], loss class 2.37354, loss box 110.15221\n"
          ]
        },
        {
          "output_type": "error",
          "ename": "KeyboardInterrupt",
          "evalue": "ignored",
          "traceback": [
            "\u001b[0;31m---------------------------------------------------------------------------\u001b[0m",
            "\u001b[0;31mKeyboardInterrupt\u001b[0m                         Traceback (most recent call last)",
            "\u001b[0;32m<ipython-input-8-070735e2363a>\u001b[0m in \u001b[0;36m<module>\u001b[0;34m\u001b[0m\n\u001b[1;32m     25\u001b[0m \u001b[0;34m\u001b[0m\u001b[0m\n\u001b[1;32m     26\u001b[0m       \u001b[0mupdate_learning_rate\u001b[0m\u001b[0;34m(\u001b[0m\u001b[0moptimizer\u001b[0m\u001b[0;34m,\u001b[0m\u001b[0mdecay_rate\u001b[0m\u001b[0;34m=\u001b[0m\u001b[0;36m0.9\u001b[0m\u001b[0;34m,\u001b[0m\u001b[0mmin_value\u001b[0m\u001b[0;34m=\u001b[0m\u001b[0;36m1e-4\u001b[0m\u001b[0;34m)\u001b[0m\u001b[0;34m\u001b[0m\u001b[0;34m\u001b[0m\u001b[0m\n\u001b[0;32m---> 27\u001b[0;31m \u001b[0mmain\u001b[0m\u001b[0;34m(\u001b[0m\u001b[0;34m)\u001b[0m\u001b[0;34m\u001b[0m\u001b[0;34m\u001b[0m\u001b[0m\n\u001b[0m",
            "\u001b[0;32m<ipython-input-8-070735e2363a>\u001b[0m in \u001b[0;36mmain\u001b[0;34m()\u001b[0m\n\u001b[1;32m     22\u001b[0m   \u001b[0;32mfor\u001b[0m \u001b[0mepoch\u001b[0m \u001b[0;32min\u001b[0m \u001b[0mrange\u001b[0m\u001b[0;34m(\u001b[0m\u001b[0;36m100\u001b[0m\u001b[0;34m)\u001b[0m\u001b[0;34m:\u001b[0m\u001b[0;34m\u001b[0m\u001b[0;34m\u001b[0m\u001b[0m\n\u001b[1;32m     23\u001b[0m       \u001b[0mtest\u001b[0m\u001b[0;34m(\u001b[0m\u001b[0mepoch\u001b[0m\u001b[0;34m,\u001b[0m\u001b[0mmodel\u001b[0m\u001b[0;34m,\u001b[0m\u001b[0mval_loader\u001b[0m\u001b[0;34m)\u001b[0m\u001b[0;34m\u001b[0m\u001b[0;34m\u001b[0m\u001b[0m\n\u001b[0;32m---> 24\u001b[0;31m       \u001b[0mtrain\u001b[0m\u001b[0;34m(\u001b[0m\u001b[0mepoch\u001b[0m\u001b[0;34m,\u001b[0m\u001b[0mmodel\u001b[0m\u001b[0;34m,\u001b[0m\u001b[0moptimizer\u001b[0m\u001b[0;34m,\u001b[0m\u001b[0mtrain_loader\u001b[0m\u001b[0;34m)\u001b[0m\u001b[0;34m\u001b[0m\u001b[0;34m\u001b[0m\u001b[0m\n\u001b[0m\u001b[1;32m     25\u001b[0m \u001b[0;34m\u001b[0m\u001b[0m\n\u001b[1;32m     26\u001b[0m       \u001b[0mupdate_learning_rate\u001b[0m\u001b[0;34m(\u001b[0m\u001b[0moptimizer\u001b[0m\u001b[0;34m,\u001b[0m\u001b[0mdecay_rate\u001b[0m\u001b[0;34m=\u001b[0m\u001b[0;36m0.9\u001b[0m\u001b[0;34m,\u001b[0m\u001b[0mmin_value\u001b[0m\u001b[0;34m=\u001b[0m\u001b[0;36m1e-4\u001b[0m\u001b[0;34m)\u001b[0m\u001b[0;34m\u001b[0m\u001b[0;34m\u001b[0m\u001b[0m\n",
            "\u001b[0;32m<ipython-input-3-490130a2035c>\u001b[0m in \u001b[0;36mtrain\u001b[0;34m(epoch, model, opt, train_loader)\u001b[0m\n\u001b[1;32m     31\u001b[0m         \u001b[0mopt\u001b[0m\u001b[0;34m.\u001b[0m\u001b[0mzero_grad\u001b[0m\u001b[0;34m(\u001b[0m\u001b[0;34m)\u001b[0m\u001b[0;34m\u001b[0m\u001b[0;34m\u001b[0m\u001b[0m\n\u001b[1;32m     32\u001b[0m         \u001b[0mloss\u001b[0m\u001b[0;34m.\u001b[0m\u001b[0mbackward\u001b[0m\u001b[0;34m(\u001b[0m\u001b[0;34m)\u001b[0m\u001b[0;34m\u001b[0m\u001b[0;34m\u001b[0m\u001b[0m\n\u001b[0;32m---> 33\u001b[0;31m         \u001b[0mnn\u001b[0m\u001b[0;34m.\u001b[0m\u001b[0mutils\u001b[0m\u001b[0;34m.\u001b[0m\u001b[0mclip_grad_norm\u001b[0m\u001b[0;34m(\u001b[0m\u001b[0mmodel\u001b[0m\u001b[0;34m.\u001b[0m\u001b[0mparameters\u001b[0m\u001b[0;34m(\u001b[0m\u001b[0;34m)\u001b[0m\u001b[0;34m,\u001b[0m \u001b[0;36m0.4\u001b[0m\u001b[0;34m)\u001b[0m\u001b[0;34m\u001b[0m\u001b[0;34m\u001b[0m\u001b[0m\n\u001b[0m\u001b[1;32m     34\u001b[0m         \u001b[0mopt\u001b[0m\u001b[0;34m.\u001b[0m\u001b[0mstep\u001b[0m\u001b[0;34m(\u001b[0m\u001b[0;34m)\u001b[0m\u001b[0;34m\u001b[0m\u001b[0;34m\u001b[0m\u001b[0m\n\u001b[1;32m     35\u001b[0m         \u001b[0;32mif\u001b[0m \u001b[0mi\u001b[0m\u001b[0;34m%\u001b[0m\u001b[0;36m100\u001b[0m\u001b[0;34m:\u001b[0m\u001b[0;34m\u001b[0m\u001b[0;34m\u001b[0m\u001b[0m\n",
            "\u001b[0;32m/usr/local/lib/python3.7/dist-packages/torch/nn/utils/clip_grad.py\u001b[0m in \u001b[0;36mclip_grad_norm\u001b[0;34m(parameters, max_norm, norm_type, error_if_nonfinite)\u001b[0m\n\u001b[1;32m     68\u001b[0m     warnings.warn(\"torch.nn.utils.clip_grad_norm is now deprecated in favor \"\n\u001b[1;32m     69\u001b[0m                   \"of torch.nn.utils.clip_grad_norm_.\", stacklevel=2)\n\u001b[0;32m---> 70\u001b[0;31m     \u001b[0;32mreturn\u001b[0m \u001b[0mclip_grad_norm_\u001b[0m\u001b[0;34m(\u001b[0m\u001b[0mparameters\u001b[0m\u001b[0;34m,\u001b[0m \u001b[0mmax_norm\u001b[0m\u001b[0;34m,\u001b[0m \u001b[0mnorm_type\u001b[0m\u001b[0;34m,\u001b[0m \u001b[0merror_if_nonfinite\u001b[0m\u001b[0;34m)\u001b[0m\u001b[0;34m\u001b[0m\u001b[0;34m\u001b[0m\u001b[0m\n\u001b[0m\u001b[1;32m     71\u001b[0m \u001b[0;34m\u001b[0m\u001b[0m\n\u001b[1;32m     72\u001b[0m \u001b[0;34m\u001b[0m\u001b[0m\n",
            "\u001b[0;32m/usr/local/lib/python3.7/dist-packages/torch/nn/utils/clip_grad.py\u001b[0m in \u001b[0;36mclip_grad_norm_\u001b[0;34m(parameters, max_norm, norm_type, error_if_nonfinite)\u001b[0m\n\u001b[1;32m     53\u001b[0m     \u001b[0mclip_coef_clamped\u001b[0m \u001b[0;34m=\u001b[0m \u001b[0mtorch\u001b[0m\u001b[0;34m.\u001b[0m\u001b[0mclamp\u001b[0m\u001b[0;34m(\u001b[0m\u001b[0mclip_coef\u001b[0m\u001b[0;34m,\u001b[0m \u001b[0mmax\u001b[0m\u001b[0;34m=\u001b[0m\u001b[0;36m1.0\u001b[0m\u001b[0;34m)\u001b[0m\u001b[0;34m\u001b[0m\u001b[0;34m\u001b[0m\u001b[0m\n\u001b[1;32m     54\u001b[0m     \u001b[0;32mfor\u001b[0m \u001b[0mp\u001b[0m \u001b[0;32min\u001b[0m \u001b[0mparameters\u001b[0m\u001b[0;34m:\u001b[0m\u001b[0;34m\u001b[0m\u001b[0;34m\u001b[0m\u001b[0m\n\u001b[0;32m---> 55\u001b[0;31m         \u001b[0mp\u001b[0m\u001b[0;34m.\u001b[0m\u001b[0mgrad\u001b[0m\u001b[0;34m.\u001b[0m\u001b[0mdetach\u001b[0m\u001b[0;34m(\u001b[0m\u001b[0;34m)\u001b[0m\u001b[0;34m.\u001b[0m\u001b[0mmul_\u001b[0m\u001b[0;34m(\u001b[0m\u001b[0mclip_coef_clamped\u001b[0m\u001b[0;34m.\u001b[0m\u001b[0mto\u001b[0m\u001b[0;34m(\u001b[0m\u001b[0mp\u001b[0m\u001b[0;34m.\u001b[0m\u001b[0mgrad\u001b[0m\u001b[0;34m.\u001b[0m\u001b[0mdevice\u001b[0m\u001b[0;34m)\u001b[0m\u001b[0;34m)\u001b[0m\u001b[0;34m\u001b[0m\u001b[0;34m\u001b[0m\u001b[0m\n\u001b[0m\u001b[1;32m     56\u001b[0m     \u001b[0;32mreturn\u001b[0m \u001b[0mtotal_norm\u001b[0m\u001b[0;34m\u001b[0m\u001b[0;34m\u001b[0m\u001b[0m\n\u001b[1;32m     57\u001b[0m \u001b[0;34m\u001b[0m\u001b[0m\n",
            "\u001b[0;31mKeyboardInterrupt\u001b[0m: "
          ]
        }
      ]
    }
  ],
  "metadata": {
    "kernelspec": {
      "display_name": "Python 3",
      "language": "python",
      "name": "python3"
    },
    "language_info": {
      "codemirror_mode": {
        "name": "ipython",
        "version": 3
      },
      "file_extension": ".py",
      "mimetype": "text/x-python",
      "name": "python",
      "nbconvert_exporter": "python",
      "pygments_lexer": "ipython3",
      "version": "3.6.4"
    },
    "colab": {
      "provenance": []
    },
    "accelerator": "GPU",
    "gpuClass": "standard"
  },
  "nbformat": 4,
  "nbformat_minor": 0
}